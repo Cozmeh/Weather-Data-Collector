{
 "cells": [
  {
   "cell_type": "code",
   "execution_count": null,
   "metadata": {},
   "outputs": [],
   "source": [
    "# imports\n",
    "import pandas as pd\n",
    "import csv , requests\n",
    "\n",
    "# hours of a day\n",
    "#hours = ['date','00:00','01:00','02:00','03:00','04:00','05:00','06:00','07:00','08:00','09:00','10:00','11:00','12:00','13:00','14:00','15:00','16:00','17:00','18:00','19:00','20:00','21:00','22:00','23:00']\n",
    "\n",
    "# opens and reads the json file (alternative method) \n",
    "# with open('today.json','r') as todayfile:\n",
    "#     todayData = json.load(todayfile)\n",
    "\n",
    "# gets the data from the api call \n",
    "data = requests.get('https://api.open-meteo.com/v1/forecast?latitude=12.9719&longitude=77.5937&hourly=temperature_2m&forecast_days=1')\n",
    "todayData = data.json() \n",
    "\n",
    "date = todayData.get('hourly').get('time')[1][0:10] # gets the current date \n",
    "temperature = todayData.get('hourly').get('temperature_2m') # List of current day's temperature (hourly)\n",
    "temperature.insert(0,date) # puts the current date at the start of the list\n",
    "\n",
    "with open('today.csv', 'a', encoding='UTF8') as f:\n",
    "     writer = csv.writer(f)\n",
    "     # write the data\n",
    "     writer.writerow(temperature) # appends the current day's temperatures\n",
    "\n",
    "\n",
    "df = pd.read_csv('today.csv')\n",
    "df"
   ]
  }
 ],
 "metadata": {
  "kernelspec": {
   "display_name": "Python 3",
   "language": "python",
   "name": "python3"
  },
  "language_info": {
   "codemirror_mode": {
    "name": "ipython",
    "version": 3
   },
   "file_extension": ".py",
   "mimetype": "text/x-python",
   "name": "python",
   "nbconvert_exporter": "python",
   "pygments_lexer": "ipython3",
   "version": "3.11.2"
  },
  "orig_nbformat": 4
 },
 "nbformat": 4,
 "nbformat_minor": 2
}
